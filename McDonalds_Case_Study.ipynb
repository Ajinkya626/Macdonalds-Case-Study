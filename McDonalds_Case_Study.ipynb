{
  "nbformat": 4,
  "nbformat_minor": 0,
  "metadata": {
    "colab": {
      "name": "McDonalds Case Study.ipynb",
      "provenance": [],
      "authorship_tag": "ABX9TyPs2K/MAX0N3gGQNFeYiz/C",
      "include_colab_link": true
    },
    "kernelspec": {
      "name": "python3",
      "display_name": "Python 3"
    },
    "language_info": {
      "name": "python"
    }
  },
  "cells": [
    {
      "cell_type": "markdown",
      "metadata": {
        "id": "view-in-github",
        "colab_type": "text"
      },
      "source": [
        "<a href=\"https://colab.research.google.com/github/Ajinkya626/Macdonalds-Case-Study/blob/main/McDonalds_Case_Study.ipynb\" target=\"_parent\"><img src=\"https://colab.research.google.com/assets/colab-badge.svg\" alt=\"Open In Colab\"/></a>"
      ]
    },
    {
      "cell_type": "code",
      "execution_count": 1,
      "metadata": {
        "id": "xPMw9bJtdbyx"
      },
      "outputs": [],
      "source": [
        "import pandas as pd\n",
        "import numpy as np\n",
        "\n",
        "#data visualization\n",
        "import matplotlib.pyplot as plt\n",
        "import seaborn as sns \n",
        "from sklearn.decomposition import PCA\n",
        "from sklearn.metrics import silhouette_score\n",
        "\n",
        "#clustering model library\n",
        "from sklearn.cluster import KMeans"
      ]
    },
    {
      "cell_type": "code",
      "source": [
        "food=pd.read_csv(\"https://raw.githubusercontent.com/Ajinkya626/Datasets/main/mcdonalds.csv\")\n",
        "food.head()"
      ],
      "metadata": {
        "colab": {
          "base_uri": "https://localhost:8080/",
          "height": 206
        },
        "id": "pLe4dkqBd7Ui",
        "outputId": "85f6024f-8cc4-4d25-d374-7e1d2252f554"
      },
      "execution_count": 2,
      "outputs": [
        {
          "output_type": "execute_result",
          "data": {
            "text/plain": [
              "  yummy convenient spicy fattening greasy fast cheap tasty expensive healthy  \\\n",
              "0    No        Yes    No       Yes     No  Yes   Yes    No       Yes      No   \n",
              "1   Yes        Yes    No       Yes    Yes  Yes   Yes   Yes       Yes      No   \n",
              "2    No        Yes   Yes       Yes    Yes  Yes    No   Yes       Yes     Yes   \n",
              "3   Yes        Yes    No       Yes    Yes  Yes   Yes   Yes        No      No   \n",
              "4    No        Yes    No       Yes    Yes  Yes   Yes    No        No     Yes   \n",
              "\n",
              "  disgusting Like  Age      VisitFrequency  Gender  \n",
              "0         No   -3   61  Every three months  Female  \n",
              "1         No   +2   51  Every three months  Female  \n",
              "2         No   +1   62  Every three months  Female  \n",
              "3        Yes   +4   69         Once a week  Female  \n",
              "4         No   +2   49        Once a month    Male  "
            ],
            "text/html": [
              "\n",
              "  <div id=\"df-96fbd754-b0c9-4fa5-a19f-1df94ca3bc9c\">\n",
              "    <div class=\"colab-df-container\">\n",
              "      <div>\n",
              "<style scoped>\n",
              "    .dataframe tbody tr th:only-of-type {\n",
              "        vertical-align: middle;\n",
              "    }\n",
              "\n",
              "    .dataframe tbody tr th {\n",
              "        vertical-align: top;\n",
              "    }\n",
              "\n",
              "    .dataframe thead th {\n",
              "        text-align: right;\n",
              "    }\n",
              "</style>\n",
              "<table border=\"1\" class=\"dataframe\">\n",
              "  <thead>\n",
              "    <tr style=\"text-align: right;\">\n",
              "      <th></th>\n",
              "      <th>yummy</th>\n",
              "      <th>convenient</th>\n",
              "      <th>spicy</th>\n",
              "      <th>fattening</th>\n",
              "      <th>greasy</th>\n",
              "      <th>fast</th>\n",
              "      <th>cheap</th>\n",
              "      <th>tasty</th>\n",
              "      <th>expensive</th>\n",
              "      <th>healthy</th>\n",
              "      <th>disgusting</th>\n",
              "      <th>Like</th>\n",
              "      <th>Age</th>\n",
              "      <th>VisitFrequency</th>\n",
              "      <th>Gender</th>\n",
              "    </tr>\n",
              "  </thead>\n",
              "  <tbody>\n",
              "    <tr>\n",
              "      <th>0</th>\n",
              "      <td>No</td>\n",
              "      <td>Yes</td>\n",
              "      <td>No</td>\n",
              "      <td>Yes</td>\n",
              "      <td>No</td>\n",
              "      <td>Yes</td>\n",
              "      <td>Yes</td>\n",
              "      <td>No</td>\n",
              "      <td>Yes</td>\n",
              "      <td>No</td>\n",
              "      <td>No</td>\n",
              "      <td>-3</td>\n",
              "      <td>61</td>\n",
              "      <td>Every three months</td>\n",
              "      <td>Female</td>\n",
              "    </tr>\n",
              "    <tr>\n",
              "      <th>1</th>\n",
              "      <td>Yes</td>\n",
              "      <td>Yes</td>\n",
              "      <td>No</td>\n",
              "      <td>Yes</td>\n",
              "      <td>Yes</td>\n",
              "      <td>Yes</td>\n",
              "      <td>Yes</td>\n",
              "      <td>Yes</td>\n",
              "      <td>Yes</td>\n",
              "      <td>No</td>\n",
              "      <td>No</td>\n",
              "      <td>+2</td>\n",
              "      <td>51</td>\n",
              "      <td>Every three months</td>\n",
              "      <td>Female</td>\n",
              "    </tr>\n",
              "    <tr>\n",
              "      <th>2</th>\n",
              "      <td>No</td>\n",
              "      <td>Yes</td>\n",
              "      <td>Yes</td>\n",
              "      <td>Yes</td>\n",
              "      <td>Yes</td>\n",
              "      <td>Yes</td>\n",
              "      <td>No</td>\n",
              "      <td>Yes</td>\n",
              "      <td>Yes</td>\n",
              "      <td>Yes</td>\n",
              "      <td>No</td>\n",
              "      <td>+1</td>\n",
              "      <td>62</td>\n",
              "      <td>Every three months</td>\n",
              "      <td>Female</td>\n",
              "    </tr>\n",
              "    <tr>\n",
              "      <th>3</th>\n",
              "      <td>Yes</td>\n",
              "      <td>Yes</td>\n",
              "      <td>No</td>\n",
              "      <td>Yes</td>\n",
              "      <td>Yes</td>\n",
              "      <td>Yes</td>\n",
              "      <td>Yes</td>\n",
              "      <td>Yes</td>\n",
              "      <td>No</td>\n",
              "      <td>No</td>\n",
              "      <td>Yes</td>\n",
              "      <td>+4</td>\n",
              "      <td>69</td>\n",
              "      <td>Once a week</td>\n",
              "      <td>Female</td>\n",
              "    </tr>\n",
              "    <tr>\n",
              "      <th>4</th>\n",
              "      <td>No</td>\n",
              "      <td>Yes</td>\n",
              "      <td>No</td>\n",
              "      <td>Yes</td>\n",
              "      <td>Yes</td>\n",
              "      <td>Yes</td>\n",
              "      <td>Yes</td>\n",
              "      <td>No</td>\n",
              "      <td>No</td>\n",
              "      <td>Yes</td>\n",
              "      <td>No</td>\n",
              "      <td>+2</td>\n",
              "      <td>49</td>\n",
              "      <td>Once a month</td>\n",
              "      <td>Male</td>\n",
              "    </tr>\n",
              "  </tbody>\n",
              "</table>\n",
              "</div>\n",
              "      <button class=\"colab-df-convert\" onclick=\"convertToInteractive('df-96fbd754-b0c9-4fa5-a19f-1df94ca3bc9c')\"\n",
              "              title=\"Convert this dataframe to an interactive table.\"\n",
              "              style=\"display:none;\">\n",
              "        \n",
              "  <svg xmlns=\"http://www.w3.org/2000/svg\" height=\"24px\"viewBox=\"0 0 24 24\"\n",
              "       width=\"24px\">\n",
              "    <path d=\"M0 0h24v24H0V0z\" fill=\"none\"/>\n",
              "    <path d=\"M18.56 5.44l.94 2.06.94-2.06 2.06-.94-2.06-.94-.94-2.06-.94 2.06-2.06.94zm-11 1L8.5 8.5l.94-2.06 2.06-.94-2.06-.94L8.5 2.5l-.94 2.06-2.06.94zm10 10l.94 2.06.94-2.06 2.06-.94-2.06-.94-.94-2.06-.94 2.06-2.06.94z\"/><path d=\"M17.41 7.96l-1.37-1.37c-.4-.4-.92-.59-1.43-.59-.52 0-1.04.2-1.43.59L10.3 9.45l-7.72 7.72c-.78.78-.78 2.05 0 2.83L4 21.41c.39.39.9.59 1.41.59.51 0 1.02-.2 1.41-.59l7.78-7.78 2.81-2.81c.8-.78.8-2.07 0-2.86zM5.41 20L4 18.59l7.72-7.72 1.47 1.35L5.41 20z\"/>\n",
              "  </svg>\n",
              "      </button>\n",
              "      \n",
              "  <style>\n",
              "    .colab-df-container {\n",
              "      display:flex;\n",
              "      flex-wrap:wrap;\n",
              "      gap: 12px;\n",
              "    }\n",
              "\n",
              "    .colab-df-convert {\n",
              "      background-color: #E8F0FE;\n",
              "      border: none;\n",
              "      border-radius: 50%;\n",
              "      cursor: pointer;\n",
              "      display: none;\n",
              "      fill: #1967D2;\n",
              "      height: 32px;\n",
              "      padding: 0 0 0 0;\n",
              "      width: 32px;\n",
              "    }\n",
              "\n",
              "    .colab-df-convert:hover {\n",
              "      background-color: #E2EBFA;\n",
              "      box-shadow: 0px 1px 2px rgba(60, 64, 67, 0.3), 0px 1px 3px 1px rgba(60, 64, 67, 0.15);\n",
              "      fill: #174EA6;\n",
              "    }\n",
              "\n",
              "    [theme=dark] .colab-df-convert {\n",
              "      background-color: #3B4455;\n",
              "      fill: #D2E3FC;\n",
              "    }\n",
              "\n",
              "    [theme=dark] .colab-df-convert:hover {\n",
              "      background-color: #434B5C;\n",
              "      box-shadow: 0px 1px 3px 1px rgba(0, 0, 0, 0.15);\n",
              "      filter: drop-shadow(0px 1px 2px rgba(0, 0, 0, 0.3));\n",
              "      fill: #FFFFFF;\n",
              "    }\n",
              "  </style>\n",
              "\n",
              "      <script>\n",
              "        const buttonEl =\n",
              "          document.querySelector('#df-96fbd754-b0c9-4fa5-a19f-1df94ca3bc9c button.colab-df-convert');\n",
              "        buttonEl.style.display =\n",
              "          google.colab.kernel.accessAllowed ? 'block' : 'none';\n",
              "\n",
              "        async function convertToInteractive(key) {\n",
              "          const element = document.querySelector('#df-96fbd754-b0c9-4fa5-a19f-1df94ca3bc9c');\n",
              "          const dataTable =\n",
              "            await google.colab.kernel.invokeFunction('convertToInteractive',\n",
              "                                                     [key], {});\n",
              "          if (!dataTable) return;\n",
              "\n",
              "          const docLinkHtml = 'Like what you see? Visit the ' +\n",
              "            '<a target=\"_blank\" href=https://colab.research.google.com/notebooks/data_table.ipynb>data table notebook</a>'\n",
              "            + ' to learn more about interactive tables.';\n",
              "          element.innerHTML = '';\n",
              "          dataTable['output_type'] = 'display_data';\n",
              "          await google.colab.output.renderOutput(dataTable, element);\n",
              "          const docLink = document.createElement('div');\n",
              "          docLink.innerHTML = docLinkHtml;\n",
              "          element.appendChild(docLink);\n",
              "        }\n",
              "      </script>\n",
              "    </div>\n",
              "  </div>\n",
              "  "
            ]
          },
          "metadata": {},
          "execution_count": 2
        }
      ]
    },
    {
      "cell_type": "code",
      "source": [
        "#convert yes and no values to binary(Categorical Encoding)\n",
        "food = food.replace(to_replace = ['Yes','No'],value = [1,0])\n",
        "food"
      ],
      "metadata": {
        "colab": {
          "base_uri": "https://localhost:8080/",
          "height": 424
        },
        "id": "Kb5_4AaFe7AS",
        "outputId": "38eb2666-ae85-4979-cbe9-668aa3d28d88"
      },
      "execution_count": 3,
      "outputs": [
        {
          "output_type": "execute_result",
          "data": {
            "text/plain": [
              "      yummy  convenient  spicy  fattening  greasy  fast  cheap  tasty  \\\n",
              "0         0           1      0          1       0     1      1      0   \n",
              "1         1           1      0          1       1     1      1      1   \n",
              "2         0           1      1          1       1     1      0      1   \n",
              "3         1           1      0          1       1     1      1      1   \n",
              "4         0           1      0          1       1     1      1      0   \n",
              "...     ...         ...    ...        ...     ...   ...    ...    ...   \n",
              "1448      0           1      0          1       1     0      0      0   \n",
              "1449      1           1      0          1       0     0      1      1   \n",
              "1450      1           1      0          1       0     1      0      1   \n",
              "1451      1           1      0          0       0     1      1      1   \n",
              "1452      0           1      0          1       1     0      0      0   \n",
              "\n",
              "      expensive  healthy  disgusting          Like  Age      VisitFrequency  \\\n",
              "0             1        0           0            -3   61  Every three months   \n",
              "1             1        0           0            +2   51  Every three months   \n",
              "2             1        1           0            +1   62  Every three months   \n",
              "3             0        0           1            +4   69         Once a week   \n",
              "4             0        1           0            +2   49        Once a month   \n",
              "...         ...      ...         ...           ...  ...                 ...   \n",
              "1448          1        0           1  I hate it!-5   47         Once a year   \n",
              "1449          0        1           0            +2   36         Once a week   \n",
              "1450          1        0           0            +3   52        Once a month   \n",
              "1451          0        1           0            +4   41  Every three months   \n",
              "1452          1        0           1            -3   30  Every three months   \n",
              "\n",
              "      Gender  \n",
              "0     Female  \n",
              "1     Female  \n",
              "2     Female  \n",
              "3     Female  \n",
              "4       Male  \n",
              "...      ...  \n",
              "1448    Male  \n",
              "1449  Female  \n",
              "1450  Female  \n",
              "1451    Male  \n",
              "1452    Male  \n",
              "\n",
              "[1453 rows x 15 columns]"
            ],
            "text/html": [
              "\n",
              "  <div id=\"df-7ec4fce3-a07f-4b51-8d52-156b3110c6d4\">\n",
              "    <div class=\"colab-df-container\">\n",
              "      <div>\n",
              "<style scoped>\n",
              "    .dataframe tbody tr th:only-of-type {\n",
              "        vertical-align: middle;\n",
              "    }\n",
              "\n",
              "    .dataframe tbody tr th {\n",
              "        vertical-align: top;\n",
              "    }\n",
              "\n",
              "    .dataframe thead th {\n",
              "        text-align: right;\n",
              "    }\n",
              "</style>\n",
              "<table border=\"1\" class=\"dataframe\">\n",
              "  <thead>\n",
              "    <tr style=\"text-align: right;\">\n",
              "      <th></th>\n",
              "      <th>yummy</th>\n",
              "      <th>convenient</th>\n",
              "      <th>spicy</th>\n",
              "      <th>fattening</th>\n",
              "      <th>greasy</th>\n",
              "      <th>fast</th>\n",
              "      <th>cheap</th>\n",
              "      <th>tasty</th>\n",
              "      <th>expensive</th>\n",
              "      <th>healthy</th>\n",
              "      <th>disgusting</th>\n",
              "      <th>Like</th>\n",
              "      <th>Age</th>\n",
              "      <th>VisitFrequency</th>\n",
              "      <th>Gender</th>\n",
              "    </tr>\n",
              "  </thead>\n",
              "  <tbody>\n",
              "    <tr>\n",
              "      <th>0</th>\n",
              "      <td>0</td>\n",
              "      <td>1</td>\n",
              "      <td>0</td>\n",
              "      <td>1</td>\n",
              "      <td>0</td>\n",
              "      <td>1</td>\n",
              "      <td>1</td>\n",
              "      <td>0</td>\n",
              "      <td>1</td>\n",
              "      <td>0</td>\n",
              "      <td>0</td>\n",
              "      <td>-3</td>\n",
              "      <td>61</td>\n",
              "      <td>Every three months</td>\n",
              "      <td>Female</td>\n",
              "    </tr>\n",
              "    <tr>\n",
              "      <th>1</th>\n",
              "      <td>1</td>\n",
              "      <td>1</td>\n",
              "      <td>0</td>\n",
              "      <td>1</td>\n",
              "      <td>1</td>\n",
              "      <td>1</td>\n",
              "      <td>1</td>\n",
              "      <td>1</td>\n",
              "      <td>1</td>\n",
              "      <td>0</td>\n",
              "      <td>0</td>\n",
              "      <td>+2</td>\n",
              "      <td>51</td>\n",
              "      <td>Every three months</td>\n",
              "      <td>Female</td>\n",
              "    </tr>\n",
              "    <tr>\n",
              "      <th>2</th>\n",
              "      <td>0</td>\n",
              "      <td>1</td>\n",
              "      <td>1</td>\n",
              "      <td>1</td>\n",
              "      <td>1</td>\n",
              "      <td>1</td>\n",
              "      <td>0</td>\n",
              "      <td>1</td>\n",
              "      <td>1</td>\n",
              "      <td>1</td>\n",
              "      <td>0</td>\n",
              "      <td>+1</td>\n",
              "      <td>62</td>\n",
              "      <td>Every three months</td>\n",
              "      <td>Female</td>\n",
              "    </tr>\n",
              "    <tr>\n",
              "      <th>3</th>\n",
              "      <td>1</td>\n",
              "      <td>1</td>\n",
              "      <td>0</td>\n",
              "      <td>1</td>\n",
              "      <td>1</td>\n",
              "      <td>1</td>\n",
              "      <td>1</td>\n",
              "      <td>1</td>\n",
              "      <td>0</td>\n",
              "      <td>0</td>\n",
              "      <td>1</td>\n",
              "      <td>+4</td>\n",
              "      <td>69</td>\n",
              "      <td>Once a week</td>\n",
              "      <td>Female</td>\n",
              "    </tr>\n",
              "    <tr>\n",
              "      <th>4</th>\n",
              "      <td>0</td>\n",
              "      <td>1</td>\n",
              "      <td>0</td>\n",
              "      <td>1</td>\n",
              "      <td>1</td>\n",
              "      <td>1</td>\n",
              "      <td>1</td>\n",
              "      <td>0</td>\n",
              "      <td>0</td>\n",
              "      <td>1</td>\n",
              "      <td>0</td>\n",
              "      <td>+2</td>\n",
              "      <td>49</td>\n",
              "      <td>Once a month</td>\n",
              "      <td>Male</td>\n",
              "    </tr>\n",
              "    <tr>\n",
              "      <th>...</th>\n",
              "      <td>...</td>\n",
              "      <td>...</td>\n",
              "      <td>...</td>\n",
              "      <td>...</td>\n",
              "      <td>...</td>\n",
              "      <td>...</td>\n",
              "      <td>...</td>\n",
              "      <td>...</td>\n",
              "      <td>...</td>\n",
              "      <td>...</td>\n",
              "      <td>...</td>\n",
              "      <td>...</td>\n",
              "      <td>...</td>\n",
              "      <td>...</td>\n",
              "      <td>...</td>\n",
              "    </tr>\n",
              "    <tr>\n",
              "      <th>1448</th>\n",
              "      <td>0</td>\n",
              "      <td>1</td>\n",
              "      <td>0</td>\n",
              "      <td>1</td>\n",
              "      <td>1</td>\n",
              "      <td>0</td>\n",
              "      <td>0</td>\n",
              "      <td>0</td>\n",
              "      <td>1</td>\n",
              "      <td>0</td>\n",
              "      <td>1</td>\n",
              "      <td>I hate it!-5</td>\n",
              "      <td>47</td>\n",
              "      <td>Once a year</td>\n",
              "      <td>Male</td>\n",
              "    </tr>\n",
              "    <tr>\n",
              "      <th>1449</th>\n",
              "      <td>1</td>\n",
              "      <td>1</td>\n",
              "      <td>0</td>\n",
              "      <td>1</td>\n",
              "      <td>0</td>\n",
              "      <td>0</td>\n",
              "      <td>1</td>\n",
              "      <td>1</td>\n",
              "      <td>0</td>\n",
              "      <td>1</td>\n",
              "      <td>0</td>\n",
              "      <td>+2</td>\n",
              "      <td>36</td>\n",
              "      <td>Once a week</td>\n",
              "      <td>Female</td>\n",
              "    </tr>\n",
              "    <tr>\n",
              "      <th>1450</th>\n",
              "      <td>1</td>\n",
              "      <td>1</td>\n",
              "      <td>0</td>\n",
              "      <td>1</td>\n",
              "      <td>0</td>\n",
              "      <td>1</td>\n",
              "      <td>0</td>\n",
              "      <td>1</td>\n",
              "      <td>1</td>\n",
              "      <td>0</td>\n",
              "      <td>0</td>\n",
              "      <td>+3</td>\n",
              "      <td>52</td>\n",
              "      <td>Once a month</td>\n",
              "      <td>Female</td>\n",
              "    </tr>\n",
              "    <tr>\n",
              "      <th>1451</th>\n",
              "      <td>1</td>\n",
              "      <td>1</td>\n",
              "      <td>0</td>\n",
              "      <td>0</td>\n",
              "      <td>0</td>\n",
              "      <td>1</td>\n",
              "      <td>1</td>\n",
              "      <td>1</td>\n",
              "      <td>0</td>\n",
              "      <td>1</td>\n",
              "      <td>0</td>\n",
              "      <td>+4</td>\n",
              "      <td>41</td>\n",
              "      <td>Every three months</td>\n",
              "      <td>Male</td>\n",
              "    </tr>\n",
              "    <tr>\n",
              "      <th>1452</th>\n",
              "      <td>0</td>\n",
              "      <td>1</td>\n",
              "      <td>0</td>\n",
              "      <td>1</td>\n",
              "      <td>1</td>\n",
              "      <td>0</td>\n",
              "      <td>0</td>\n",
              "      <td>0</td>\n",
              "      <td>1</td>\n",
              "      <td>0</td>\n",
              "      <td>1</td>\n",
              "      <td>-3</td>\n",
              "      <td>30</td>\n",
              "      <td>Every three months</td>\n",
              "      <td>Male</td>\n",
              "    </tr>\n",
              "  </tbody>\n",
              "</table>\n",
              "<p>1453 rows × 15 columns</p>\n",
              "</div>\n",
              "      <button class=\"colab-df-convert\" onclick=\"convertToInteractive('df-7ec4fce3-a07f-4b51-8d52-156b3110c6d4')\"\n",
              "              title=\"Convert this dataframe to an interactive table.\"\n",
              "              style=\"display:none;\">\n",
              "        \n",
              "  <svg xmlns=\"http://www.w3.org/2000/svg\" height=\"24px\"viewBox=\"0 0 24 24\"\n",
              "       width=\"24px\">\n",
              "    <path d=\"M0 0h24v24H0V0z\" fill=\"none\"/>\n",
              "    <path d=\"M18.56 5.44l.94 2.06.94-2.06 2.06-.94-2.06-.94-.94-2.06-.94 2.06-2.06.94zm-11 1L8.5 8.5l.94-2.06 2.06-.94-2.06-.94L8.5 2.5l-.94 2.06-2.06.94zm10 10l.94 2.06.94-2.06 2.06-.94-2.06-.94-.94-2.06-.94 2.06-2.06.94z\"/><path d=\"M17.41 7.96l-1.37-1.37c-.4-.4-.92-.59-1.43-.59-.52 0-1.04.2-1.43.59L10.3 9.45l-7.72 7.72c-.78.78-.78 2.05 0 2.83L4 21.41c.39.39.9.59 1.41.59.51 0 1.02-.2 1.41-.59l7.78-7.78 2.81-2.81c.8-.78.8-2.07 0-2.86zM5.41 20L4 18.59l7.72-7.72 1.47 1.35L5.41 20z\"/>\n",
              "  </svg>\n",
              "      </button>\n",
              "      \n",
              "  <style>\n",
              "    .colab-df-container {\n",
              "      display:flex;\n",
              "      flex-wrap:wrap;\n",
              "      gap: 12px;\n",
              "    }\n",
              "\n",
              "    .colab-df-convert {\n",
              "      background-color: #E8F0FE;\n",
              "      border: none;\n",
              "      border-radius: 50%;\n",
              "      cursor: pointer;\n",
              "      display: none;\n",
              "      fill: #1967D2;\n",
              "      height: 32px;\n",
              "      padding: 0 0 0 0;\n",
              "      width: 32px;\n",
              "    }\n",
              "\n",
              "    .colab-df-convert:hover {\n",
              "      background-color: #E2EBFA;\n",
              "      box-shadow: 0px 1px 2px rgba(60, 64, 67, 0.3), 0px 1px 3px 1px rgba(60, 64, 67, 0.15);\n",
              "      fill: #174EA6;\n",
              "    }\n",
              "\n",
              "    [theme=dark] .colab-df-convert {\n",
              "      background-color: #3B4455;\n",
              "      fill: #D2E3FC;\n",
              "    }\n",
              "\n",
              "    [theme=dark] .colab-df-convert:hover {\n",
              "      background-color: #434B5C;\n",
              "      box-shadow: 0px 1px 3px 1px rgba(0, 0, 0, 0.15);\n",
              "      filter: drop-shadow(0px 1px 2px rgba(0, 0, 0, 0.3));\n",
              "      fill: #FFFFFF;\n",
              "    }\n",
              "  </style>\n",
              "\n",
              "      <script>\n",
              "        const buttonEl =\n",
              "          document.querySelector('#df-7ec4fce3-a07f-4b51-8d52-156b3110c6d4 button.colab-df-convert');\n",
              "        buttonEl.style.display =\n",
              "          google.colab.kernel.accessAllowed ? 'block' : 'none';\n",
              "\n",
              "        async function convertToInteractive(key) {\n",
              "          const element = document.querySelector('#df-7ec4fce3-a07f-4b51-8d52-156b3110c6d4');\n",
              "          const dataTable =\n",
              "            await google.colab.kernel.invokeFunction('convertToInteractive',\n",
              "                                                     [key], {});\n",
              "          if (!dataTable) return;\n",
              "\n",
              "          const docLinkHtml = 'Like what you see? Visit the ' +\n",
              "            '<a target=\"_blank\" href=https://colab.research.google.com/notebooks/data_table.ipynb>data table notebook</a>'\n",
              "            + ' to learn more about interactive tables.';\n",
              "          element.innerHTML = '';\n",
              "          dataTable['output_type'] = 'display_data';\n",
              "          await google.colab.output.renderOutput(dataTable, element);\n",
              "          const docLink = document.createElement('div');\n",
              "          docLink.innerHTML = docLinkHtml;\n",
              "          element.appendChild(docLink);\n",
              "        }\n",
              "      </script>\n",
              "    </div>\n",
              "  </div>\n",
              "  "
            ]
          },
          "metadata": {},
          "execution_count": 3
        }
      ]
    },
    {
      "cell_type": "markdown",
      "source": [
        "## **Data Visualisation**"
      ],
      "metadata": {
        "id": "YRdI9hm9fSAg"
      }
    },
    {
      "cell_type": "code",
      "source": [
        "#heatmap to study correlation between variables\n",
        "plt.figure(figsize=(7,7))\n",
        "sns.heatmap(food.corr(), annot=True)\n",
        "plt.show()"
      ],
      "metadata": {
        "colab": {
          "base_uri": "https://localhost:8080/",
          "height": 478
        },
        "id": "3-sySwlifEwH",
        "outputId": "d8a2c880-dc04-4da8-f9a7-efd4a1f62c0e"
      },
      "execution_count": 4,
      "outputs": [
        {
          "output_type": "display_data",
          "data": {
            "text/plain": [
              "<Figure size 504x504 with 2 Axes>"
            ],
            "image/png": "[encoded data removed]"
          },
          "metadata": {
            "needs_background": "light"
          }
        }
      ]
    },
    {
      "cell_type": "code",
      "source": [
        "#plotting age of customers\n",
        "plt.figure(figsize=(20,10))\n",
        "sns.countplot(x=food.Age)\n",
        "plt.xlabel(\"Age\")\n",
        "plt.ylabel(\"Person Count\")\n",
        "plt.title('Graph showing Age of our Demographic')\n",
        "plt.show()"
      ],
      "metadata": {
        "colab": {
          "base_uri": "https://localhost:8080/",
          "height": 621
        },
        "id": "vDRgDezvfGxl",
        "outputId": "da1aed3f-df86-44c9-9932-ffbc33de0cc2"
      },
      "execution_count": 5,
      "outputs": [
        {
          "output_type": "display_data",
          "data": {
            "text/plain": [
              "<Figure size 1440x720 with 1 Axes>"
            ],
            "image/png": "[encoded data removed]"
          },
          "metadata": {
            "needs_background": "light"
          }
        }
      ]
    },
    {
      "cell_type": "code",
      "source": [
        "#plotting count of genders\n",
        "plt.figure(figsize=(5,5))\n",
        "sns.countplot(x=food.Gender)\n",
        "plt.xlabel(\"Gender\")\n",
        "plt.ylabel(\"Person Count\")\n",
        "plt.title('Count of genders')\n",
        "plt.show()"
      ],
      "metadata": {
        "colab": {
          "base_uri": "https://localhost:8080/",
          "height": 350
        },
        "id": "2ATYTAKVfX8p",
        "outputId": "4272a0ac-94fb-4d2b-cca9-497232a6e5ca"
      },
      "execution_count": 6,
      "outputs": [
        {
          "output_type": "display_data",
          "data": {
            "text/plain": [
              "<Figure size 360x360 with 1 Axes>"
            ],
            "image/png": "[encoded data removed]"
          },
          "metadata": {
            "needs_background": "light"
          }
        }
      ]
    },
    {
      "cell_type": "markdown",
      "source": [
        "## **Applying Feature Extraction Technique: PCA**"
      ],
      "metadata": {
        "id": "yusr-rQwfkpP"
      }
    },
    {
      "cell_type": "code",
      "source": [
        "temp=food[['VisitFrequency','Gender','Like','Age']]\n",
        "food=food.drop(['VisitFrequency','Gender','Like','Age'], axis = 1)\n",
        "\n",
        "pca = PCA(n_components=11)\n",
        "\n",
        "principalComponents = pca.fit_transform(X = food)\n",
        "\n",
        "# to get how much variance was retained\n",
        "print(pca.explained_variance_ratio_)"
      ],
      "metadata": {
        "colab": {
          "base_uri": "https://localhost:8080/"
        },
        "id": "1SkFtMTxfrAj",
        "outputId": "d4c3551f-0930-4831-ac3f-0e5aafedf831"
      },
      "execution_count": 7,
      "outputs": [
        {
          "output_type": "stream",
          "name": "stdout",
          "text": [
            "[0.29944723 0.19279721 0.13304535 0.08309578 0.05948052 0.05029956\n",
            " 0.0438491  0.03954779 0.0367609  0.03235329 0.02932326]\n"
          ]
        }
      ]
    },
    {
      "cell_type": "code",
      "source": [
        "#create dataframe of pca \n",
        "pca_food = pd.DataFrame(data = principalComponents\n",
        "                        , columns = ['pca 1', 'pca 2','pca 3', 'pca 4','pca 5', 'pca 6','pca 7', 'pca 8','pca 9', 'pca 10','pca 11'])\n",
        "pca_food.tail()"
      ],
      "metadata": {
        "colab": {
          "base_uri": "https://localhost:8080/",
          "height": 206
        },
        "id": "fQzetbAxfxu8",
        "outputId": "6fee9631-252b-44fb-dff0-a2a132f9e553"
      },
      "execution_count": 8,
      "outputs": [
        {
          "output_type": "execute_result",
          "data": {
            "text/plain": [
              "         pca 1     pca 2     pca 3     pca 4     pca 5     pca 6     pca 7  \\\n",
              "1448  1.550242  0.275031 -0.013737  0.200604 -0.145063  0.306575 -0.075308   \n",
              "1449 -0.957339  0.014308  0.303843  0.444350 -0.133690  0.381804 -0.326432   \n",
              "1450 -0.185894  1.062662  0.220857 -0.467643 -0.187757 -0.192703 -0.091597   \n",
              "1451 -1.182064 -0.038570  0.561561  0.701126  0.047645  0.193687 -0.027335   \n",
              "1452  1.550242  0.275031 -0.013737  0.200604 -0.145063  0.306575 -0.075308   \n",
              "\n",
              "         pca 8     pca 9    pca 10    pca 11  \n",
              "1448  0.345552 -0.136589 -0.432798 -0.456076  \n",
              "1449  0.878047 -0.304441 -0.247443 -0.193671  \n",
              "1450 -0.036576  0.038255  0.056518 -0.012800  \n",
              "1451 -0.339374  0.022267 -0.002573 -0.105316  \n",
              "1452  0.345552 -0.136589 -0.432798 -0.456076  "
            ],
            "text/html": [
              "\n",
              "  <div id=\"df-9b6ba076-5e8b-448c-bd7c-539db62163f9\">\n",
              "    <div class=\"colab-df-container\">\n",
              "      <div>\n",
              "<style scoped>\n",
              "    .dataframe tbody tr th:only-of-type {\n",
              "        vertical-align: middle;\n",
              "    }\n",
              "\n",
              "    .dataframe tbody tr th {\n",
              "        vertical-align: top;\n",
              "    }\n",
              "\n",
              "    .dataframe thead th {\n",
              "        text-align: right;\n",
              "    }\n",
              "</style>\n",
              "<table border=\"1\" class=\"dataframe\">\n",
              "  <thead>\n",
              "    <tr style=\"text-align: right;\">\n",
              "      <th></th>\n",
              "      <th>pca 1</th>\n",
              "      <th>pca 2</th>\n",
              "      <th>pca 3</th>\n",
              "      <th>pca 4</th>\n",
              "      <th>pca 5</th>\n",
              "      <th>pca 6</th>\n",
              "      <th>pca 7</th>\n",
              "      <th>pca 8</th>\n",
              "      <th>pca 9</th>\n",
              "      <th>pca 10</th>\n",
              "      <th>pca 11</th>\n",
              "    </tr>\n",
              "  </thead>\n",
              "  <tbody>\n",
              "    <tr>\n",
              "      <th>1448</th>\n",
              "      <td>1.550242</td>\n",
              "      <td>0.275031</td>\n",
              "      <td>-0.013737</td>\n",
              "      <td>0.200604</td>\n",
              "      <td>-0.145063</td>\n",
              "      <td>0.306575</td>\n",
              "      <td>-0.075308</td>\n",
              "      <td>0.345552</td>\n",
              "      <td>-0.136589</td>\n",
              "      <td>-0.432798</td>\n",
              "      <td>-0.456076</td>\n",
              "    </tr>\n",
              "    <tr>\n",
              "      <th>1449</th>\n",
              "      <td>-0.957339</td>\n",
              "      <td>0.014308</td>\n",
              "      <td>0.303843</td>\n",
              "      <td>0.444350</td>\n",
              "      <td>-0.133690</td>\n",
              "      <td>0.381804</td>\n",
              "      <td>-0.326432</td>\n",
              "      <td>0.878047</td>\n",
              "      <td>-0.304441</td>\n",
              "      <td>-0.247443</td>\n",
              "      <td>-0.193671</td>\n",
              "    </tr>\n",
              "    <tr>\n",
              "      <th>1450</th>\n",
              "      <td>-0.185894</td>\n",
              "      <td>1.062662</td>\n",
              "      <td>0.220857</td>\n",
              "      <td>-0.467643</td>\n",
              "      <td>-0.187757</td>\n",
              "      <td>-0.192703</td>\n",
              "      <td>-0.091597</td>\n",
              "      <td>-0.036576</td>\n",
              "      <td>0.038255</td>\n",
              "      <td>0.056518</td>\n",
              "      <td>-0.012800</td>\n",
              "    </tr>\n",
              "    <tr>\n",
              "      <th>1451</th>\n",
              "      <td>-1.182064</td>\n",
              "      <td>-0.038570</td>\n",
              "      <td>0.561561</td>\n",
              "      <td>0.701126</td>\n",
              "      <td>0.047645</td>\n",
              "      <td>0.193687</td>\n",
              "      <td>-0.027335</td>\n",
              "      <td>-0.339374</td>\n",
              "      <td>0.022267</td>\n",
              "      <td>-0.002573</td>\n",
              "      <td>-0.105316</td>\n",
              "    </tr>\n",
              "    <tr>\n",
              "      <th>1452</th>\n",
              "      <td>1.550242</td>\n",
              "      <td>0.275031</td>\n",
              "      <td>-0.013737</td>\n",
              "      <td>0.200604</td>\n",
              "      <td>-0.145063</td>\n",
              "      <td>0.306575</td>\n",
              "      <td>-0.075308</td>\n",
              "      <td>0.345552</td>\n",
              "      <td>-0.136589</td>\n",
              "      <td>-0.432798</td>\n",
              "      <td>-0.456076</td>\n",
              "    </tr>\n",
              "  </tbody>\n",
              "</table>\n",
              "</div>\n",
              "      <button class=\"colab-df-convert\" onclick=\"convertToInteractive('df-9b6ba076-5e8b-448c-bd7c-539db62163f9')\"\n",
              "              title=\"Convert this dataframe to an interactive table.\"\n",
              "              style=\"display:none;\">\n",
              "        \n",
              "  <svg xmlns=\"http://www.w3.org/2000/svg\" height=\"24px\"viewBox=\"0 0 24 24\"\n",
              "       width=\"24px\">\n",
              "    <path d=\"M0 0h24v24H0V0z\" fill=\"none\"/>\n",
              "    <path d=\"M18.56 5.44l.94 2.06.94-2.06 2.06-.94-2.06-.94-.94-2.06-.94 2.06-2.06.94zm-11 1L8.5 8.5l.94-2.06 2.06-.94-2.06-.94L8.5 2.5l-.94 2.06-2.06.94zm10 10l.94 2.06.94-2.06 2.06-.94-2.06-.94-.94-2.06-.94 2.06-2.06.94z\"/><path d=\"M17.41 7.96l-1.37-1.37c-.4-.4-.92-.59-1.43-.59-.52 0-1.04.2-1.43.59L10.3 9.45l-7.72 7.72c-.78.78-.78 2.05 0 2.83L4 21.41c.39.39.9.59 1.41.59.51 0 1.02-.2 1.41-.59l7.78-7.78 2.81-2.81c.8-.78.8-2.07 0-2.86zM5.41 20L4 18.59l7.72-7.72 1.47 1.35L5.41 20z\"/>\n",
              "  </svg>\n",
              "      </button>\n",
              "      \n",
              "  <style>\n",
              "    .colab-df-container {\n",
              "      display:flex;\n",
              "      flex-wrap:wrap;\n",
              "      gap: 12px;\n",
              "    }\n",
              "\n",
              "    .colab-df-convert {\n",
              "      background-color: #E8F0FE;\n",
              "      border: none;\n",
              "      border-radius: 50%;\n",
              "      cursor: pointer;\n",
              "      display: none;\n",
              "      fill: #1967D2;\n",
              "      height: 32px;\n",
              "      padding: 0 0 0 0;\n",
              "      width: 32px;\n",
              "    }\n",
              "\n",
              "    .colab-df-convert:hover {\n",
              "      background-color: #E2EBFA;\n",
              "      box-shadow: 0px 1px 2px rgba(60, 64, 67, 0.3), 0px 1px 3px 1px rgba(60, 64, 67, 0.15);\n",
              "      fill: #174EA6;\n",
              "    }\n",
              "\n",
              "    [theme=dark] .colab-df-convert {\n",
              "      background-color: #3B4455;\n",
              "      fill: #D2E3FC;\n",
              "    }\n",
              "\n",
              "    [theme=dark] .colab-df-convert:hover {\n",
              "      background-color: #434B5C;\n",
              "      box-shadow: 0px 1px 3px 1px rgba(0, 0, 0, 0.15);\n",
              "      filter: drop-shadow(0px 1px 2px rgba(0, 0, 0, 0.3));\n",
              "      fill: #FFFFFF;\n",
              "    }\n",
              "  </style>\n",
              "\n",
              "      <script>\n",
              "        const buttonEl =\n",
              "          document.querySelector('#df-9b6ba076-5e8b-448c-bd7c-539db62163f9 button.colab-df-convert');\n",
              "        buttonEl.style.display =\n",
              "          google.colab.kernel.accessAllowed ? 'block' : 'none';\n",
              "\n",
              "        async function convertToInteractive(key) {\n",
              "          const element = document.querySelector('#df-9b6ba076-5e8b-448c-bd7c-539db62163f9');\n",
              "          const dataTable =\n",
              "            await google.colab.kernel.invokeFunction('convertToInteractive',\n",
              "                                                     [key], {});\n",
              "          if (!dataTable) return;\n",
              "\n",
              "          const docLinkHtml = 'Like what you see? Visit the ' +\n",
              "            '<a target=\"_blank\" href=https://colab.research.google.com/notebooks/data_table.ipynb>data table notebook</a>'\n",
              "            + ' to learn more about interactive tables.';\n",
              "          element.innerHTML = '';\n",
              "          dataTable['output_type'] = 'display_data';\n",
              "          await google.colab.output.renderOutput(dataTable, element);\n",
              "          const docLink = document.createElement('div');\n",
              "          docLink.innerHTML = docLinkHtml;\n",
              "          element.appendChild(docLink);\n",
              "        }\n",
              "      </script>\n",
              "    </div>\n",
              "  </div>\n",
              "  "
            ]
          },
          "metadata": {},
          "execution_count": 8
        }
      ]
    },
    {
      "cell_type": "code",
      "source": [
        "#plot betweeen first and second principle component\n",
        "\n",
        "plt.figure(figsize=(10,10))\n",
        "sns.scatterplot(\n",
        "    x=\"pca 1\", y=\"pca 2\",\n",
        "    palette=sns.color_palette(\"hls\", 10),\n",
        "    data=pca_food[['pca 1','pca 2']]\n",
        ")\n",
        "plt.xlabel('pca 1',fontsize=16)\n",
        "plt.ylabel('pca 2',fontsize=16)\n",
        "plt.title('pca analysis of dataset',fontsize=20)\n",
        "plt.show()"
      ],
      "metadata": {
        "colab": {
          "base_uri": "https://localhost:8080/",
          "height": 632
        },
        "id": "ITHPiI2wf4_N",
        "outputId": "45e2213c-db0f-4859-e46e-30f7efb98239"
      },
      "execution_count": 9,
      "outputs": [
        {
          "output_type": "display_data",
          "data": {
            "text/plain": [
              "<Figure size 720x720 with 1 Axes>"
            ],
            "image/png": "[encoded data removed]"
          },
          "metadata": {
            "needs_background": "light"
          }
        }
      ]
    },
    {
      "cell_type": "code",
      "source": [
        "#relation between principle components and original variables\n",
        "loadings=np.round(pca.components_.T * np.sqrt(pca.explained_variance_),3)\n",
        "print(loadings)"
      ],
      "metadata": {
        "colab": {
          "base_uri": "https://localhost:8080/"
        },
        "id": "TiKZIEzcf-7m",
        "outputId": "9302928a-47ac-4ee2-e06c-e3fb108eff90"
      },
      "execution_count": 10,
      "outputs": [
        {
          "output_type": "stream",
          "name": "stdout",
          "text": [
            "[[-0.361  0.221 -0.154  0.022 -0.104  0.053 -0.081  0.004  0.152 -0.027\n",
            "   0.011]\n",
            " [-0.118  0.01  -0.032 -0.057  0.094 -0.108 -0.017 -0.031 -0.005 -0.166\n",
            "  -0.128]\n",
            " [-0.005  0.011 -0.019  0.079  0.024 -0.11   0.205  0.103  0.106 -0.019\n",
            "   0.034]\n",
            " [ 0.088 -0.021 -0.163 -0.141 -0.025 -0.126 -0.112  0.162 -0.043 -0.001\n",
            "   0.059]\n",
            " [ 0.23  -0.039 -0.405  0.101  0.122  0.065  0.01  -0.038 -0.001  0.002\n",
            "   0.   ]\n",
            " [-0.082 -0.053 -0.033 -0.039  0.036 -0.184 -0.025 -0.173  0.044  0.06\n",
            "   0.08 ]\n",
            " [-0.255 -0.371 -0.075  0.047 -0.044 -0.032 -0.012  0.039  0.02   0.107\n",
            "  -0.116]\n",
            " [-0.357  0.187 -0.145 -0.001 -0.071 -0.024  0.104 -0.02  -0.17   0.02\n",
            "   0.005]\n",
            " [ 0.249  0.365  0.012  0.027 -0.001 -0.081 -0.02   0.008  0.018  0.113\n",
            "  -0.116]\n",
            " [-0.162  0.047  0.097  0.304  0.097 -0.055 -0.101  0.049 -0.049 -0.009\n",
            "   0.037]\n",
            " [ 0.284 -0.085 -0.045  0.147 -0.246 -0.065 -0.008 -0.046 -0.019 -0.072\n",
            "  -0.01 ]]\n"
          ]
        }
      ]
    },
    {
      "cell_type": "markdown",
      "source": [
        "## **Applying Algorithms**"
      ],
      "metadata": {
        "id": "1Hp51JaOgAev"
      }
    },
    {
      "cell_type": "markdown",
      "source": [
        "### **K-Means Algorithm**"
      ],
      "metadata": {
        "id": "ASEEZIWNgGXX"
      }
    },
    {
      "cell_type": "code",
      "source": [
        "#find best value for k\n",
        "distortion=[]\n",
        "for k in range(1,9):\n",
        "    kmeans = KMeans(n_clusters=k)\n",
        "    kmeans.fit(food)\n",
        "    distortion.append(kmeans.inertia_)\n",
        "plt.figure(figsize=(15,5))\n",
        "plt.bar(range(1,9),distortion)\n",
        "plt.title('Scree Plot',fontsize=20)\n",
        "plt.xlabel(\"Number of K (cluster) Value\",fontsize=16)\n",
        "plt.ylabel(\"Sum of within cluster Distances\",fontsize=16)\n",
        "plt.show()"
      ],
      "metadata": {
        "colab": {
          "base_uri": "https://localhost:8080/",
          "height": 360
        },
        "id": "rPyZo-W1gMWn",
        "outputId": "e8df57b3-8a2a-4536-ab0f-13d3742c177b"
      },
      "execution_count": 12,
      "outputs": [
        {
          "output_type": "display_data",
          "data": {
            "text/plain": [
              "<Figure size 1080x360 with 1 Axes>"
            ],
            "image/png": "[encoded data removed]"
          },
          "metadata": {
            "needs_background": "light"
          }
        }
      ]
    },
    {
      "cell_type": "markdown",
      "source": [
        "Taking Value of K = 4\n"
      ],
      "metadata": {
        "id": "zSJxtoqYhaLW"
      }
    },
    {
      "cell_type": "code",
      "source": [
        "#We save our final cluster model from the kmeans algorithm \n",
        "kmeansfinal = KMeans(n_clusters=4)\n",
        "kmeansfinal.fit(food)"
      ],
      "metadata": {
        "colab": {
          "base_uri": "https://localhost:8080/"
        },
        "id": "TzgPzCQigc8P",
        "outputId": "08e783f6-74b9-4418-c2fc-c8ebc123493d"
      },
      "execution_count": 15,
      "outputs": [
        {
          "output_type": "execute_result",
          "data": {
            "text/plain": [
              "KMeans(n_clusters=4)"
            ]
          },
          "metadata": {},
          "execution_count": 15
        }
      ]
    },
    {
      "cell_type": "code",
      "source": [
        "#adding descriptor variables back to our dataset along with cluster of each datapoint\n",
        "food[['VisitFrequency','Age','Like','Gender']]=temp[['VisitFrequency','Age','Like','Gender']]\n",
        "food['cluster']=kmeansfinal.labels_\n",
        "food.head()"
      ],
      "metadata": {
        "colab": {
          "base_uri": "https://localhost:8080/",
          "height": 206
        },
        "id": "HYjHKu9ohiwQ",
        "outputId": "c0ed0043-9321-47a1-8a98-5f7f1b9fe93e"
      },
      "execution_count": 16,
      "outputs": [
        {
          "output_type": "execute_result",
          "data": {
            "text/plain": [
              "   yummy  convenient  spicy  fattening  greasy  fast  cheap  tasty  expensive  \\\n",
              "0      0           1      0          1       0     1      1      0          1   \n",
              "1      1           1      0          1       1     1      1      1          1   \n",
              "2      0           1      1          1       1     1      0      1          1   \n",
              "3      1           1      0          1       1     1      1      1          0   \n",
              "4      0           1      0          1       1     1      1      0          0   \n",
              "\n",
              "   healthy  disgusting      VisitFrequency  Age Like  Gender  cluster  \n",
              "0        0           0  Every three months   61   -3  Female        3  \n",
              "1        0           0  Every three months   51   +2  Female        0  \n",
              "2        1           0  Every three months   62   +1  Female        0  \n",
              "3        0           1         Once a week   69   +4  Female        1  \n",
              "4        1           0        Once a month   49   +2    Male        3  "
            ],
            "text/html": [
              "\n",
              "  <div id=\"df-60cf2d59-70fd-4e19-9767-54801e7146d9\">\n",
              "    <div class=\"colab-df-container\">\n",
              "      <div>\n",
              "<style scoped>\n",
              "    .dataframe tbody tr th:only-of-type {\n",
              "        vertical-align: middle;\n",
              "    }\n",
              "\n",
              "    .dataframe tbody tr th {\n",
              "        vertical-align: top;\n",
              "    }\n",
              "\n",
              "    .dataframe thead th {\n",
              "        text-align: right;\n",
              "    }\n",
              "</style>\n",
              "<table border=\"1\" class=\"dataframe\">\n",
              "  <thead>\n",
              "    <tr style=\"text-align: right;\">\n",
              "      <th></th>\n",
              "      <th>yummy</th>\n",
              "      <th>convenient</th>\n",
              "      <th>spicy</th>\n",
              "      <th>fattening</th>\n",
              "      <th>greasy</th>\n",
              "      <th>fast</th>\n",
              "      <th>cheap</th>\n",
              "      <th>tasty</th>\n",
              "      <th>expensive</th>\n",
              "      <th>healthy</th>\n",
              "      <th>disgusting</th>\n",
              "      <th>VisitFrequency</th>\n",
              "      <th>Age</th>\n",
              "      <th>Like</th>\n",
              "      <th>Gender</th>\n",
              "      <th>cluster</th>\n",
              "    </tr>\n",
              "  </thead>\n",
              "  <tbody>\n",
              "    <tr>\n",
              "      <th>0</th>\n",
              "      <td>0</td>\n",
              "      <td>1</td>\n",
              "      <td>0</td>\n",
              "      <td>1</td>\n",
              "      <td>0</td>\n",
              "      <td>1</td>\n",
              "      <td>1</td>\n",
              "      <td>0</td>\n",
              "      <td>1</td>\n",
              "      <td>0</td>\n",
              "      <td>0</td>\n",
              "      <td>Every three months</td>\n",
              "      <td>61</td>\n",
              "      <td>-3</td>\n",
              "      <td>Female</td>\n",
              "      <td>3</td>\n",
              "    </tr>\n",
              "    <tr>\n",
              "      <th>1</th>\n",
              "      <td>1</td>\n",
              "      <td>1</td>\n",
              "      <td>0</td>\n",
              "      <td>1</td>\n",
              "      <td>1</td>\n",
              "      <td>1</td>\n",
              "      <td>1</td>\n",
              "      <td>1</td>\n",
              "      <td>1</td>\n",
              "      <td>0</td>\n",
              "      <td>0</td>\n",
              "      <td>Every three months</td>\n",
              "      <td>51</td>\n",
              "      <td>+2</td>\n",
              "      <td>Female</td>\n",
              "      <td>0</td>\n",
              "    </tr>\n",
              "    <tr>\n",
              "      <th>2</th>\n",
              "      <td>0</td>\n",
              "      <td>1</td>\n",
              "      <td>1</td>\n",
              "      <td>1</td>\n",
              "      <td>1</td>\n",
              "      <td>1</td>\n",
              "      <td>0</td>\n",
              "      <td>1</td>\n",
              "      <td>1</td>\n",
              "      <td>1</td>\n",
              "      <td>0</td>\n",
              "      <td>Every three months</td>\n",
              "      <td>62</td>\n",
              "      <td>+1</td>\n",
              "      <td>Female</td>\n",
              "      <td>0</td>\n",
              "    </tr>\n",
              "    <tr>\n",
              "      <th>3</th>\n",
              "      <td>1</td>\n",
              "      <td>1</td>\n",
              "      <td>0</td>\n",
              "      <td>1</td>\n",
              "      <td>1</td>\n",
              "      <td>1</td>\n",
              "      <td>1</td>\n",
              "      <td>1</td>\n",
              "      <td>0</td>\n",
              "      <td>0</td>\n",
              "      <td>1</td>\n",
              "      <td>Once a week</td>\n",
              "      <td>69</td>\n",
              "      <td>+4</td>\n",
              "      <td>Female</td>\n",
              "      <td>1</td>\n",
              "    </tr>\n",
              "    <tr>\n",
              "      <th>4</th>\n",
              "      <td>0</td>\n",
              "      <td>1</td>\n",
              "      <td>0</td>\n",
              "      <td>1</td>\n",
              "      <td>1</td>\n",
              "      <td>1</td>\n",
              "      <td>1</td>\n",
              "      <td>0</td>\n",
              "      <td>0</td>\n",
              "      <td>1</td>\n",
              "      <td>0</td>\n",
              "      <td>Once a month</td>\n",
              "      <td>49</td>\n",
              "      <td>+2</td>\n",
              "      <td>Male</td>\n",
              "      <td>3</td>\n",
              "    </tr>\n",
              "  </tbody>\n",
              "</table>\n",
              "</div>\n",
              "      <button class=\"colab-df-convert\" onclick=\"convertToInteractive('df-60cf2d59-70fd-4e19-9767-54801e7146d9')\"\n",
              "              title=\"Convert this dataframe to an interactive table.\"\n",
              "              style=\"display:none;\">\n",
              "        \n",
              "  <svg xmlns=\"http://www.w3.org/2000/svg\" height=\"24px\"viewBox=\"0 0 24 24\"\n",
              "       width=\"24px\">\n",
              "    <path d=\"M0 0h24v24H0V0z\" fill=\"none\"/>\n",
              "    <path d=\"M18.56 5.44l.94 2.06.94-2.06 2.06-.94-2.06-.94-.94-2.06-.94 2.06-2.06.94zm-11 1L8.5 8.5l.94-2.06 2.06-.94-2.06-.94L8.5 2.5l-.94 2.06-2.06.94zm10 10l.94 2.06.94-2.06 2.06-.94-2.06-.94-.94-2.06-.94 2.06-2.06.94z\"/><path d=\"M17.41 7.96l-1.37-1.37c-.4-.4-.92-.59-1.43-.59-.52 0-1.04.2-1.43.59L10.3 9.45l-7.72 7.72c-.78.78-.78 2.05 0 2.83L4 21.41c.39.39.9.59 1.41.59.51 0 1.02-.2 1.41-.59l7.78-7.78 2.81-2.81c.8-.78.8-2.07 0-2.86zM5.41 20L4 18.59l7.72-7.72 1.47 1.35L5.41 20z\"/>\n",
              "  </svg>\n",
              "      </button>\n",
              "      \n",
              "  <style>\n",
              "    .colab-df-container {\n",
              "      display:flex;\n",
              "      flex-wrap:wrap;\n",
              "      gap: 12px;\n",
              "    }\n",
              "\n",
              "    .colab-df-convert {\n",
              "      background-color: #E8F0FE;\n",
              "      border: none;\n",
              "      border-radius: 50%;\n",
              "      cursor: pointer;\n",
              "      display: none;\n",
              "      fill: #1967D2;\n",
              "      height: 32px;\n",
              "      padding: 0 0 0 0;\n",
              "      width: 32px;\n",
              "    }\n",
              "\n",
              "    .colab-df-convert:hover {\n",
              "      background-color: #E2EBFA;\n",
              "      box-shadow: 0px 1px 2px rgba(60, 64, 67, 0.3), 0px 1px 3px 1px rgba(60, 64, 67, 0.15);\n",
              "      fill: #174EA6;\n",
              "    }\n",
              "\n",
              "    [theme=dark] .colab-df-convert {\n",
              "      background-color: #3B4455;\n",
              "      fill: #D2E3FC;\n",
              "    }\n",
              "\n",
              "    [theme=dark] .colab-df-convert:hover {\n",
              "      background-color: #434B5C;\n",
              "      box-shadow: 0px 1px 3px 1px rgba(0, 0, 0, 0.15);\n",
              "      filter: drop-shadow(0px 1px 2px rgba(0, 0, 0, 0.3));\n",
              "      fill: #FFFFFF;\n",
              "    }\n",
              "  </style>\n",
              "\n",
              "      <script>\n",
              "        const buttonEl =\n",
              "          document.querySelector('#df-60cf2d59-70fd-4e19-9767-54801e7146d9 button.colab-df-convert');\n",
              "        buttonEl.style.display =\n",
              "          google.colab.kernel.accessAllowed ? 'block' : 'none';\n",
              "\n",
              "        async function convertToInteractive(key) {\n",
              "          const element = document.querySelector('#df-60cf2d59-70fd-4e19-9767-54801e7146d9');\n",
              "          const dataTable =\n",
              "            await google.colab.kernel.invokeFunction('convertToInteractive',\n",
              "                                                     [key], {});\n",
              "          if (!dataTable) return;\n",
              "\n",
              "          const docLinkHtml = 'Like what you see? Visit the ' +\n",
              "            '<a target=\"_blank\" href=https://colab.research.google.com/notebooks/data_table.ipynb>data table notebook</a>'\n",
              "            + ' to learn more about interactive tables.';\n",
              "          element.innerHTML = '';\n",
              "          dataTable['output_type'] = 'display_data';\n",
              "          await google.colab.output.renderOutput(dataTable, element);\n",
              "          const docLink = document.createElement('div');\n",
              "          docLink.innerHTML = docLinkHtml;\n",
              "          element.appendChild(docLink);\n",
              "        }\n",
              "      </script>\n",
              "    </div>\n",
              "  </div>\n",
              "  "
            ]
          },
          "metadata": {},
          "execution_count": 16
        }
      ]
    },
    {
      "cell_type": "markdown",
      "source": [
        "Plotting Extracted Information\n"
      ],
      "metadata": {
        "id": "W9upTQ9ngktm"
      }
    },
    {
      "cell_type": "code",
      "source": [
        "plt.figure(figsize=(10,10))\n",
        "sns.countplot(x='cluster',hue='Like',data=food)\n",
        "plt.xlabel(\"Cluster\")\n",
        "plt.ylabel(\"Count\")\n",
        "plt.title(\"Count of like for each cluster\")\n",
        "plt.show()"
      ],
      "metadata": {
        "colab": {
          "base_uri": "https://localhost:8080/",
          "height": 621
        },
        "id": "LOCI1Vk9hwqe",
        "outputId": "3744817b-7f7e-4339-f554-9e9c2c381f1a"
      },
      "execution_count": 17,
      "outputs": [
        {
          "output_type": "display_data",
          "data": {
            "text/plain": [
              "<Figure size 720x720 with 1 Axes>"
            ],
            "image/png": "[encoded data removed]"
          },
          "metadata": {
            "needs_background": "light"
          }
        }
      ]
    },
    {
      "cell_type": "code",
      "source": [
        "plt.figure(figsize=(10,10))\n",
        "g=sns.countplot(x='cluster',hue='Age',data=food)\n",
        "g.legend_.remove()\n",
        "plt.xlabel(\"Cluster\")\n",
        "plt.ylabel(\"Count\")\n",
        "plt.title(\"Count of age(hues in ascending order 18-71) for each cluster\")\n",
        "plt.show()"
      ],
      "metadata": {
        "colab": {
          "base_uri": "https://localhost:8080/",
          "height": 621
        },
        "id": "rmI68fD9h2EY",
        "outputId": "6e3d051e-19c6-49b0-f7fe-9bb4a7b629b9"
      },
      "execution_count": 18,
      "outputs": [
        {
          "output_type": "display_data",
          "data": {
            "text/plain": [
              "<Figure size 720x720 with 1 Axes>"
            ],
            "image/png": "[encoded data removed]"
          },
          "metadata": {
            "needs_background": "light"
          }
        }
      ]
    },
    {
      "cell_type": "code",
      "source": [
        "plt.figure(figsize=(10,10))\n",
        "sns.countplot(x='cluster',hue='Gender',data=food)\n",
        "plt.xlabel(\"Cluster\")\n",
        "plt.ylabel(\"Count\")\n",
        "plt.title(\"Count of gender for each cluster\")\n",
        "plt.show()"
      ],
      "metadata": {
        "colab": {
          "base_uri": "https://localhost:8080/",
          "height": 621
        },
        "id": "I-PpSkcZh58v",
        "outputId": "4f87bc18-5e39-4883-cc04-de74409d192a"
      },
      "execution_count": 19,
      "outputs": [
        {
          "output_type": "display_data",
          "data": {
            "text/plain": [
              "<Figure size 720x720 with 1 Axes>"
            ],
            "image/png": "[encoded data removed]"
          },
          "metadata": {
            "needs_background": "light"
          }
        }
      ]
    },
    {
      "cell_type": "code",
      "source": [
        "plt.figure(figsize=(10,10))\n",
        "sns.countplot(x='cluster',hue='VisitFrequency',data=food)\n",
        "plt.xlabel(\"Cluster\")\n",
        "plt.ylabel(\"Count\")\n",
        "plt.title(\"Count of Visit Frequency for each cluster\")\n",
        "plt.show()"
      ],
      "metadata": {
        "colab": {
          "base_uri": "https://localhost:8080/",
          "height": 621
        },
        "id": "mktyTdPzh9f4",
        "outputId": "4ee307a3-fe4d-42ff-8eec-b748e46c65c3"
      },
      "execution_count": 20,
      "outputs": [
        {
          "output_type": "display_data",
          "data": {
            "text/plain": [
              "<Figure size 720x720 with 1 Axes>"
            ],
            "image/png": "[encoded data removed]"
          },
          "metadata": {
            "needs_background": "light"
          }
        }
      ]
    }
  ]
}